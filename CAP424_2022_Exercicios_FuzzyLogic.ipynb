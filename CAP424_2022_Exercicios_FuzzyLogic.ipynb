{
  "cells": [
    {
      "cell_type": "markdown",
      "metadata": {
        "id": "view-in-github",
        "colab_type": "text"
      },
      "source": [
        "<a href=\"https://colab.research.google.com/github/lourencocavalcante/Fuzzy-Logic/blob/main/CAP424_2022_Exercicios_FuzzyLogic.ipynb\" target=\"_parent\"><img src=\"https://colab.research.google.com/assets/colab-badge.svg\" alt=\"Open In Colab\"/></a>"
      ]
    },
    {
      "cell_type": "markdown",
      "metadata": {
        "id": "OCGrfcaNk9Ju"
      },
      "source": [
        "[<img src=\"https://github.com/lourencocavalcante/LogosINPE/blob/main/logoinpe.png?raw=true\" width = 500 align=\"left\">](https://www.gov.br/inpe/pt-br)\n",
        "\n",
        "[<img src=\"https://github.com/lourencocavalcante/LogosINPE/blob/main/LogoCAP.png?raw=true\" width = 300 align=\"right\">](http://www.inpe.br/posgraduacao/cap/)"
      ]
    },
    {
      "cell_type": "markdown",
      "metadata": {
        "id": "ect6m7UiI28E"
      },
      "source": [
        "# <span style=\"color:#336699; text-align: center;\">Trabalho Final da disciplina de Lógica Nebulosa (CAP-424)</span>\n",
        "<hr style=\"border:2px solid #0077b9;\">\n",
        "\n",
        "<br/>\n",
        "\n",
        "<div style=\"text-align: center;font-size: 110%;\">\n",
        "    <b>CAP-424 – Lógica Nebulosa (Fuzzy Logic)</b>\n",
        "    <br/>\n",
        "    <b>Docente:</b> Dr. Lamartine Nogueira Frutuoso Guimarães\n",
        "    <br/><br/>\n",
        "    <b>Discente:</b> Lourenço José Cavalcante Neto\n",
        "    <br/>\n",
        "    <b>E-mail:</b> <a href=\"mailto:lourenco.cavalcante@ifto.edu.b\">lourenco.cavalcante@ifto.edu.br</a>\n",
        "\n",
        "</div>\n",
        "\n",
        "<br/>\n",
        "\n",
        "<div style=\"text-align: justify;  margin-left: 20%; margin-right: 20%;\">\n",
        "<b>Objetivo: </b> O principal objetivo deste caderno notebook é apresentar as questões propostas pelo professor em torno das discussões ocorridas durante a disciplina de Lógica Nebulosa (CAP-424) e suas respectivas soluções, como trabalho final da disciplina. O livro adotado pelo professor foi \"Fuzzy and Neural Approaches in Engineering (1st. ed.)\" de autoria de Tsoukalas e Robert E. Uhrig.\n",
        "</div>"
      ]
    },
    {
      "cell_type": "markdown",
      "metadata": {
        "id": "nFcD5Gx3Vuyz"
      },
      "source": [
        "<span style=\"text-align: center;\"> Este caderno notebook também pode ser visualizado no meu diretório de materiais e atividades da disciplina **CAP-324** no **Github**,  [Clicando aqui](https://github.com/lourencocavalcante/Fuzzy-Logic.git) </span>"
      ]
    },
    {
      "cell_type": "markdown",
      "source": [
        "# **Lógica Nebulosa (Fuzzy Logic)**"
      ],
      "metadata": {
        "id": "66PyRnagA772"
      }
    },
    {
      "cell_type": "markdown",
      "metadata": {
        "id": "7Okfq4RbVmXD"
      },
      "source": [
        "Na lógica convencional (binária), um elemento pertence ou não pertence a um determinado conjunto, e nunca se encontra entre estes dois estados possíveis. Esta é uma maneira de simplificar um mundo inerentemente complexo, mas - argumentam os defensores da lógica nebulosa - esta simplificação acaba por distorcer a realidade (GRINT, 1997). A lógica nebulosa é um método que permite expressar incertezas de maneira mais consistente, através dos conjuntos nebulosos: ao invés de simplesmente pertencer ou não pertencer, um elemento poderá ter vários graus de pertinência a um conjunto. \n",
        "\n",
        "O conceito de lógica nebulosa (fuzzy logic ou LN) foi introduzido por Lotfi Zadeh em 1965, como uma forma de reduzir e explicar a complexidade de sistemas (Cox, 1998). Esta idéia permaneceu praticamente desconhecida pelo grande público até o final da década de 1980, quando o metrô de Sendai adotou um sistema baseado na LN - o Automatic Train Operator (ATO) - e surgiram várias empresas que tinham o objetivo de desenvolver e comercializar produtos baseados nesta tecnologia. Apesar de o interesse comercial haver arrefecido, hoje é possível encontrar aplicações da lógica nebulosa em áreas bem diferentes daquela em que surgiu\n",
        "\n",
        "Os conjuntos nebulosos (fuzzy sets) são funções que mapeiam, em uma escala de zero a um, esta pertinência de um determinado elemento ao conjunto. O valor zero indica que o elemento não pertence ao conjunto, enquanto o valor um significa que o elemento é completamente representativo do conjunto; valores entre estes dois indicam graus intermediários de pertinência.\n",
        "\n",
        "Com conjuntos nebulosos é possível realizar várias operações - as básicas são interseção, união e complemento - e, com regras de inferência (policies), criar modelos que auxiliem na tomada de decisão."
      ]
    },
    {
      "cell_type": "markdown",
      "source": [
        "\n",
        "\n",
        "---\n",
        "\n"
      ],
      "metadata": {
        "id": "dUu-KLFffzCV"
      }
    },
    {
      "cell_type": "markdown",
      "metadata": {
        "id": "-IUoRbDBTZZj"
      },
      "source": [
        "# **Chapter 2 problems**\n"
      ]
    },
    {
      "cell_type": "markdown",
      "source": [
        "## **Problem 5**\n",
        "\n",
        "<img src=\"https://github.com/lourencocavalcante/Fuzzy-Logic/blob/90c9f4ea04cee22074c3e8d8f5678eb7965bc230/Questions/2chapter-problem5.PNG?raw=true\" width = 600 align=\"left\">\n"
      ],
      "metadata": {
        "id": "3AiZIbZ8OJFb"
      }
    },
    {
      "cell_type": "markdown",
      "source": [
        "SOLUÇÃO:\n",
        "\n",
        "<img src=\"https://github.com/lourencocavalcante/Fuzzy-Logic/blob/391fb73b4392fac69d9d3460542f73336860aa43/Questions/Solutions/cap2_solution5.JPG?raw=true\" width = 400 align=\"left\">"
      ],
      "metadata": {
        "id": "pC7RCUV2d25-"
      }
    },
    {
      "cell_type": "markdown",
      "source": [
        "## **Problem 6**\n",
        "\n",
        "<img src=\"https://github.com/lourencocavalcante/Fuzzy-Logic/blob/90c9f4ea04cee22074c3e8d8f5678eb7965bc230/Questions/2chapter-problem6.PNG?raw=true\" width = 600 align=\"left\">"
      ],
      "metadata": {
        "id": "ie7_2zIQOd-0"
      }
    },
    {
      "cell_type": "markdown",
      "source": [
        "SOLUÇÃO:\n",
        "\n",
        "<img src=\"https://github.com/lourencocavalcante/Fuzzy-Logic/blob/391fb73b4392fac69d9d3460542f73336860aa43/Questions/Solutions/cap2_solution5AND6.JPG?raw=true\" width = 400 align=\"left\">"
      ],
      "metadata": {
        "id": "hrUeLoPYfhUs"
      }
    },
    {
      "cell_type": "markdown",
      "source": [
        "## **Problem 7**\n",
        "\n",
        "<img src=\"https://github.com/lourencocavalcante/Fuzzy-Logic/blob/90c9f4ea04cee22074c3e8d8f5678eb7965bc230/Questions/2chapter-problem7.PNG?raw=true\" width = 600 align=\"left\">"
      ],
      "metadata": {
        "id": "PsVvElhTOg-z"
      }
    },
    {
      "cell_type": "code",
      "execution_count": 36,
      "metadata": {
        "id": "66I_39TzNz29"
      },
      "outputs": [],
      "source": [
        "from math import sqrt\n",
        "from turtle import color\n",
        "import numpy as np\n",
        "import math\n",
        "import matplotlib.pyplot as plt"
      ]
    },
    {
      "cell_type": "markdown",
      "metadata": {
        "id": "qAWRBH5tT2Wj"
      },
      "source": [
        "Calcular fuzzy set de A:"
      ]
    },
    {
      "cell_type": "code",
      "execution_count": 37,
      "metadata": {
        "colab": {
          "base_uri": "https://localhost:8080/"
        },
        "id": "ncQX9TN1OQxr",
        "outputId": "d26995e1-ab41-42ef-d1c3-72f10e44032c"
      },
      "outputs": [
        {
          "output_type": "stream",
          "name": "stdout",
          "text": [
            "miA = {0.0/14 + 0.0/15 + 0.5/16 + 0.8/17}\n"
          ]
        }
      ],
      "source": [
        "resultA = np.zeros((4))\n",
        "resultA[0] = 0\n",
        "\n",
        "resultA[1] = 0\n",
        "\n",
        "resultA[2] = (16-15)\n",
        "resultA[2] = math.pow(resultA[2], -2)\n",
        "resultA[2] = resultA[2] + 1\n",
        "resultA[2] = 1 / resultA[2]\n",
        "\n",
        "resultA[3] = (17-15)\n",
        "resultA[3] = math.pow(resultA[3], -2)\n",
        "resultA[3] = resultA[3] + 1\n",
        "resultA[3] = 1 / resultA[3]\n",
        "print('miA = {'+str(resultA[0])+'/14 + '+str(resultA[1])+'/15 + '+str(resultA[2])+'/16 + '+str(resultA[3])+'/17}')"
      ]
    },
    {
      "cell_type": "markdown",
      "metadata": {
        "id": "uawlpbqyOljw"
      },
      "source": [
        "Calcular fuzzy set de B:"
      ]
    },
    {
      "cell_type": "code",
      "execution_count": 38,
      "metadata": {
        "colab": {
          "base_uri": "https://localhost:8080/"
        },
        "id": "jpLiH1y0OpxZ",
        "outputId": "6783cea1-9d55-4840-d2ad-6e6ad713c10a"
      },
      "outputs": [
        {
          "output_type": "stream",
          "name": "stdout",
          "text": [
            "miB = {0.01/14 + 0.06/15 + 0.5/16 + 1.0/17}\n"
          ]
        }
      ],
      "source": [
        "resultB = np.zeros((4))\n",
        "resultB[0] = (14-17)\n",
        "resultB[0] = math.pow(resultB[0], 4)\n",
        "resultB[0] = resultB[0] + 1\n",
        "resultB[0] = 1 / resultB[0]\n",
        "\n",
        "resultB[1] = (15-17)\n",
        "resultB[1] = math.pow(resultB[1], 4)\n",
        "resultB[1] = resultB[1] + 1\n",
        "resultB[1] = 1 / resultB[1]\n",
        "\n",
        "resultB[2] = (16-17)\n",
        "resultB[2] = math.pow(resultB[2], 4)\n",
        "resultB[2] = resultB[2] + 1\n",
        "resultB[2] = 1 / resultB[2]\n",
        "\n",
        "resultB[3] = (17-17)\n",
        "resultB[3] = math.pow(resultB[3], 4)\n",
        "resultB[3] = resultB[3] + 1\n",
        "resultB[3] = 1 / resultB[3]\n",
        "print('miB = {'+str(round(resultB[0],2))+'/14 + '+str(round(resultB[1],2))+'/15 + '+str(round(resultB[2],2))+'/16 + '+str(round(resultB[3],2))+'/17}')"
      ]
    },
    {
      "cell_type": "markdown",
      "metadata": {
        "id": "trIr0X2RGWzq"
      },
      "source": [
        "Cálculo do máximos entre as duas funções fuzzy:"
      ]
    },
    {
      "cell_type": "code",
      "execution_count": 39,
      "metadata": {
        "colab": {
          "base_uri": "https://localhost:8080/"
        },
        "id": "tVZJHZ1CO2Uz",
        "outputId": "2d8b8a8f-5b43-46ec-84c6-6d931cfeb79a"
      },
      "outputs": [
        {
          "output_type": "stream",
          "name": "stdout",
          "text": [
            "miC = {0.01/14 + 0.06/15 + 0.5/16 + 1.0/17}\n"
          ]
        }
      ],
      "source": [
        "resultC = np.zeros((4))\n",
        "for i in range(0,4):\n",
        "    if resultA[i] > resultB[i]:\n",
        "        resultC[i] = resultA[i]\n",
        "    else:\n",
        "        resultC[i] = resultB[i]\n",
        "\n",
        "print('miC = {'+str(round(resultC[0],2))+'/14 + '+str(round(resultC[1],2))+'/15 + '+str(round(resultC[2],2))+'/16 + '+str(round(resultC[3],2))+'/17}')"
      ]
    },
    {
      "cell_type": "markdown",
      "metadata": {
        "id": "OUqHivwoGWzr"
      },
      "source": [
        "Soma algébrica:"
      ]
    },
    {
      "cell_type": "code",
      "execution_count": 40,
      "metadata": {
        "id": "GUdmUUgoGWzr",
        "outputId": "274df637-cd31-46ae-fb84-58537c5fe223",
        "colab": {
          "base_uri": "https://localhost:8080/"
        }
      },
      "outputs": [
        {
          "output_type": "stream",
          "name": "stdout",
          "text": [
            "miD = {0.01/14 + 0.06/15 + 0.75/16 + 1.0/17}\n"
          ]
        }
      ],
      "source": [
        "resultD = np.zeros((4))\n",
        "for i in range(0,4):\n",
        "    resultD[i] = (resultA[i] + resultB[i]) - (resultA[i] * resultB[i])\n",
        "\n",
        "print('miD = {'+str(round(resultD[0],2))+'/14 + '+str(round(resultD[1],2))+'/15 + '+str(round(resultD[2],2))+'/16 + '+str(round(resultD[3],2))+'/17}')"
      ]
    },
    {
      "cell_type": "markdown",
      "metadata": {
        "id": "W61OSEZnGWzr"
      },
      "source": [
        "Bounded Sum:"
      ]
    },
    {
      "cell_type": "code",
      "execution_count": 41,
      "metadata": {
        "id": "ymvFAMe_GWzs",
        "outputId": "6c143ae7-0cd2-4df5-bb5b-28389d75b721",
        "colab": {
          "base_uri": "https://localhost:8080/"
        }
      },
      "outputs": [
        {
          "output_type": "stream",
          "name": "stdout",
          "text": [
            "miD = {0.01/14 + 0.06/15 + 1.0/16 + 1.0/17}\n"
          ]
        }
      ],
      "source": [
        "resultD = np.zeros((4))\n",
        "for i in range(0,4):\n",
        "    resultD[i] = resultA[i] + resultB[i]\n",
        "    if resultD[i] > 1:\n",
        "        resultD[i] = 1\n",
        "\n",
        "print('miD = {'+str(round(resultD[0],2))+'/14 + '+str(round(resultD[1],2))+'/15 + '+str(round(resultD[2],2))+'/16 + '+str(round(resultD[3],2))+'/17}')"
      ]
    },
    {
      "cell_type": "markdown",
      "metadata": {
        "id": "UJIQO-LfO6ov"
      },
      "source": [
        "Drastic sum"
      ]
    },
    {
      "cell_type": "code",
      "execution_count": 42,
      "metadata": {
        "colab": {
          "base_uri": "https://localhost:8080/"
        },
        "id": "EVcDPDQVPCm9",
        "outputId": "d4ecf8f9-2f94-4a72-c6f3-d4e228a8c360"
      },
      "outputs": [
        {
          "output_type": "stream",
          "name": "stdout",
          "text": [
            "miD = {0.01/14 + 0.06/15 + 1.0/16 + 1.0/17}\n"
          ]
        }
      ],
      "source": [
        "resultD = np.zeros((4))\n",
        "for i in range(0,4):\n",
        "    if resultA[i] == 0:\n",
        "        resultD[i] = resultB[i]\n",
        "    elif resultB[i] == 0:\n",
        "        resultD[i] = resultA[i]\n",
        "    else:\n",
        "        resultD[i] = 1\n",
        "\n",
        "print('miD = {'+str(round(resultD[0],2))+'/14 + '+str(round(resultD[1],2))+'/15 + '+str(round(resultD[2],2))+'/16 + '+str(round(resultD[3],2))+'/17}')"
      ]
    },
    {
      "cell_type": "markdown",
      "metadata": {
        "id": "YIq1UguVGWzs"
      },
      "source": [
        "Será criado os graficos de cada set."
      ]
    },
    {
      "cell_type": "code",
      "execution_count": 43,
      "metadata": {
        "id": "91M-QnvvGWzs",
        "outputId": "ee5ad725-a83c-41e6-98be-bb165606f7e3",
        "colab": {
          "base_uri": "https://localhost:8080/",
          "height": 390
        }
      },
      "outputs": [
        {
          "output_type": "display_data",
          "data": {
            "text/plain": [
              "<Figure size 864x432 with 5 Axes>"
            ],
            "image/png": "[encoded data removed]"
          },
          "metadata": {
            "needs_background": "light"
          }
        }
      ],
      "source": [
        "fig = plt.figure(figsize=((12, 6)))\n",
        "\n",
        "def miA(x):\n",
        "    if x > 15:\n",
        "        eq = 1+((x-15)**(-2))\n",
        "        uA = 1/eq\n",
        "    else:\n",
        "        uA = 0\n",
        "        \n",
        "    return uA\n",
        "\n",
        "def miB(x):\n",
        "    eq = 1+((x-17)**4)\n",
        "    uB = 1/eq\n",
        "    return uB\n",
        "\n",
        "tam = 25\n",
        "d = 15\n",
        "x = np.zeros((tam))\n",
        "y = np.zeros((tam))\n",
        "z = np.zeros((tam))\n",
        "result = np.zeros((tam))\n",
        "\n",
        "for i in range(0,tam):\n",
        "    y[i] = miA(d)\n",
        "    z[i] = miB(d)\n",
        "    x[i] = d\n",
        "    d = d + 0.1\n",
        "\n",
        "plt.subplot(2, 3, 1)\n",
        "plt.plot(x,y)\n",
        "plt.plot(x,z)\n",
        "plt.grid()\n",
        "plt.title(\"Fuzzzy set A e B\")\n",
        "\n",
        "d = 15\n",
        "x = np.zeros((tam))\n",
        "y = np.zeros((tam))\n",
        "z = np.zeros((tam))\n",
        "\n",
        "for i in range(0,tam):\n",
        "    y[i] = miA(d)\n",
        "    z[i] = miB(d)\n",
        "    if (y[i] > z[i]):\n",
        "        result[i] = y[i]\n",
        "    else:\n",
        "        result[i] = z[i]\n",
        "    x[i] = d\n",
        "    d = d + 0.1\n",
        "\n",
        "plt.subplot(2, 3, 2)\n",
        "plt.plot(x,result)\n",
        "plt.grid()\n",
        "plt.title(\"Max operation\")\n",
        "\n",
        "d = 15\n",
        "x = np.zeros((tam))\n",
        "y = np.zeros((tam))\n",
        "z = np.zeros((tam))\n",
        "result = np.zeros((tam))\n",
        "\n",
        "\n",
        "# create data\n",
        "for i in range(0,tam):\n",
        "    y[i] = miA(d)\n",
        "    z[i] = miB(d)\n",
        "    result[i] = (y[i] + z[i]) - (y[i] * z[i])\n",
        "    x[i] = d\n",
        "    d = d + 0.1\n",
        "\n",
        "  \n",
        "# plot line\n",
        "plt.subplot(2, 3, 3)\n",
        "plt.plot(x,result)\n",
        "plt.grid()\n",
        "plt.title(\"Algebraic sum\")\n",
        "\n",
        "d = 15\n",
        "x = np.zeros((tam))\n",
        "y = np.zeros((tam))\n",
        "z = np.zeros((tam))\n",
        "result = np.zeros((tam))\n",
        "\n",
        "\n",
        "# create data\n",
        "for i in range(0,tam):\n",
        "    y[i] = miA(d)\n",
        "    z[i] = miB(d)\n",
        "    result[i] = y[i] + z[i]\n",
        "    if result[i] > 1:\n",
        "        result[i] = 1\n",
        "    x[i] = d\n",
        "    d = d + 0.1\n",
        "\n",
        "  \n",
        "# plot line\n",
        "plt.subplot(2, 3, 4)\n",
        "plt.plot(x,result)\n",
        "plt.grid()\n",
        "plt.title(\"Bounded sum\")\n",
        "\n",
        "d = 15\n",
        "x = np.zeros((tam))\n",
        "y = np.zeros((tam))\n",
        "z = np.zeros((tam))\n",
        "result = np.zeros((tam))\n",
        "\n",
        "\n",
        "# create data\n",
        "for i in range(0,tam):\n",
        "    y[i] = miA(d)\n",
        "    z[i] = miB(d)\n",
        "    if y[i] == 0:\n",
        "        result[i] = z[i]\n",
        "    elif z[i] == 0:\n",
        "        result[i] = y[i]\n",
        "    else:\n",
        "        result[i] = 1\n",
        "    x[i] = d\n",
        "    d = d + 0.1\n",
        "\n",
        "  \n",
        "# plot line\n",
        "plt.subplot(2,3,5)\n",
        "plt.plot(x,result)\n",
        "plt.grid()\n",
        "plt.title(\"Drastic sum\")\n",
        "\n",
        "plt.show()"
      ]
    },
    {
      "cell_type": "markdown",
      "source": [
        "## **Problem 8**\n",
        "\n",
        "<img src=\"https://github.com/lourencocavalcante/Fuzzy-Logic/blob/90c9f4ea04cee22074c3e8d8f5678eb7965bc230/Questions/2chapter-problem8.PNG?raw=true\" width = 600 align=\"left\">"
      ],
      "metadata": {
        "id": "bNSPUeWsOkp7"
      }
    },
    {
      "cell_type": "markdown",
      "metadata": {
        "id": "ab0b_clZGWzt"
      },
      "source": [
        "Min operation"
      ]
    },
    {
      "cell_type": "code",
      "execution_count": 44,
      "metadata": {
        "id": "B0JUM0d2GWzt",
        "outputId": "73598909-8e66-4202-a4e2-cd988f89d64c",
        "colab": {
          "base_uri": "https://localhost:8080/"
        }
      },
      "outputs": [
        {
          "output_type": "stream",
          "name": "stdout",
          "text": [
            "miC = {0.0/14 + 0.0/15 + 0.5/16 + 0.8/17}\n"
          ]
        }
      ],
      "source": [
        "resultC = np.zeros((4))\n",
        "for i in range(0,4):\n",
        "    if resultA[i] < resultB[i]:\n",
        "        resultC[i] = resultA[i]\n",
        "    else:\n",
        "        resultC[i] = resultB[i]\n",
        "\n",
        "print('miC = {'+str(resultC[0])+'/14 + '+str(resultC[1])+'/15 + '+str(resultC[2])+'/16 + '+str(resultC[3])+'/17}')"
      ]
    },
    {
      "cell_type": "markdown",
      "metadata": {
        "id": "PMXBC5MiGWzu"
      },
      "source": [
        "algebric product"
      ]
    },
    {
      "cell_type": "code",
      "execution_count": 45,
      "metadata": {
        "id": "Ow6ye4xaGWzu",
        "outputId": "e28d12c3-c5f2-4e1c-d4ea-17440e3cb3d5",
        "colab": {
          "base_uri": "https://localhost:8080/"
        }
      },
      "outputs": [
        {
          "output_type": "stream",
          "name": "stdout",
          "text": [
            "miC = {0.0/14 + 0.0/15 + 0.25/16 + 0.8/17}\n"
          ]
        }
      ],
      "source": [
        "resultC = np.zeros((4))\n",
        "for i in range(0,4):\n",
        "    resultC[i] = resultA[i] * resultB[i] \n",
        "\n",
        "print('miC = {'+str(resultC[0])+'/14 + '+str(resultC[1])+'/15 + '+str(resultC[2])+'/16 + '+str(resultC[3])+'/17}')"
      ]
    },
    {
      "cell_type": "markdown",
      "metadata": {
        "id": "Apcjks_OGWzu"
      },
      "source": [
        "bounded product"
      ]
    },
    {
      "cell_type": "code",
      "execution_count": 46,
      "metadata": {
        "id": "Z2ufLae4GWzu",
        "outputId": "c2056d10-e15b-421a-c071-85c99738a5ff",
        "colab": {
          "base_uri": "https://localhost:8080/"
        }
      },
      "outputs": [
        {
          "output_type": "stream",
          "name": "stdout",
          "text": [
            "miC = {0.0/14 + 0.0/15 + 0.0/16 + 0.8/17}\n"
          ]
        }
      ],
      "source": [
        "resultC = np.zeros((4))\n",
        "for i in range(0,4):\n",
        "    resultC[i] = resultA[i] + resultB[i] - 1\n",
        "    if resultC[i] < 0:\n",
        "        resultC[i] = 0\n",
        "\n",
        "\n",
        "print('miC = {'+str(resultC[0])+'/14 + '+str(resultC[1])+'/15 + '+str(resultC[2])+'/16 + '+str(resultC[3])+'/17}')"
      ]
    },
    {
      "cell_type": "markdown",
      "metadata": {
        "id": "cVqE641rGWzu"
      },
      "source": [
        "drastic product"
      ]
    },
    {
      "cell_type": "code",
      "execution_count": 47,
      "metadata": {
        "id": "h3jwkWb8GWzv",
        "outputId": "a186e3a9-8625-45ec-c1cf-ee3f68e389a2",
        "colab": {
          "base_uri": "https://localhost:8080/"
        }
      },
      "outputs": [
        {
          "output_type": "stream",
          "name": "stdout",
          "text": [
            "miC = {0.0/14 + 0.0/15 + 0.0/16 + 0.8/17}\n"
          ]
        }
      ],
      "source": [
        "resultC = np.zeros((4))\n",
        "for i in range(0,4):\n",
        "    if resultA[i] == 1:\n",
        "        resultC[i] = resultB[i]\n",
        "    elif resultB[i] == 1:\n",
        "        resultC[i] = resultA[i]\n",
        "    else:\n",
        "        resultC[i] = 0\n",
        "\n",
        "print('miC = {'+str(resultC[0])+'/14 + '+str(resultC[1])+'/15 + '+str(resultC[2])+'/16 + '+str(resultC[3])+'/17}')"
      ]
    },
    {
      "cell_type": "markdown",
      "metadata": {
        "id": "ngOl0W_iGWzv"
      },
      "source": [
        "Graficos"
      ]
    },
    {
      "cell_type": "code",
      "execution_count": 48,
      "metadata": {
        "id": "z8ZK9ZvhGWzv",
        "outputId": "34657e95-a67c-485e-8447-7469145b4b3b",
        "colab": {
          "base_uri": "https://localhost:8080/",
          "height": 390
        }
      },
      "outputs": [
        {
          "output_type": "display_data",
          "data": {
            "text/plain": [
              "<Figure size 864x432 with 5 Axes>"
            ],
            "image/png": "[encoded data removed]"
          },
          "metadata": {
            "needs_background": "light"
          }
        }
      ],
      "source": [
        "fig = plt.figure(figsize=((12, 6)))\n",
        "\n",
        "def miA(x):\n",
        "    if x > 15:\n",
        "        eq = 1+((x-15)**(-2))\n",
        "        uA = 1/eq\n",
        "    else:\n",
        "        uA = 0\n",
        "        \n",
        "    return uA\n",
        "\n",
        "def miB(x):\n",
        "    eq = 1+((x-17)**4)\n",
        "    uB = 1/eq\n",
        "    return uB\n",
        "\n",
        "tam = 25\n",
        "d = 15\n",
        "x = np.zeros((tam))\n",
        "y = np.zeros((tam))\n",
        "z = np.zeros((tam))\n",
        "result = np.zeros((tam))\n",
        "\n",
        "for i in range(0,tam):\n",
        "    y[i] = miA(d)\n",
        "    z[i] = miB(d)\n",
        "    x[i] = d\n",
        "    d = d + 0.1\n",
        "\n",
        "plt.subplot(2, 3, 1)\n",
        "plt.plot(x,y)\n",
        "plt.plot(x,z)\n",
        "plt.grid()\n",
        "plt.title(\"Fuzzzy set A e B\")\n",
        "\n",
        "d = 15\n",
        "x = np.zeros((tam))\n",
        "y = np.zeros((tam))\n",
        "z = np.zeros((tam))\n",
        "\n",
        "for i in range(0,tam):\n",
        "    y[i] = miA(d)\n",
        "    z[i] = miB(d)\n",
        "    if (y[i] < z[i]):\n",
        "        result[i] = y[i]\n",
        "    else:\n",
        "        result[i] = z[i]\n",
        "    x[i] = d\n",
        "    d = d + 0.1\n",
        "\n",
        "plt.subplot(2, 3, 2)\n",
        "plt.plot(x,result)\n",
        "plt.grid()\n",
        "plt.title(\"Min operation\")\n",
        "\n",
        "d = 15\n",
        "x = np.zeros((tam))\n",
        "y = np.zeros((tam))\n",
        "z = np.zeros((tam))\n",
        "result = np.zeros((tam))\n",
        "\n",
        "\n",
        "# create data\n",
        "for i in range(0,tam):\n",
        "    y[i] = miA(d)\n",
        "    z[i] = miB(d)\n",
        "    result[i] = y[i] * z[i]\n",
        "    x[i] = d\n",
        "    d = d + 0.1\n",
        "\n",
        "  \n",
        "# plot line\n",
        "plt.subplot(2, 3, 3)\n",
        "plt.plot(x,result)\n",
        "plt.grid()\n",
        "plt.title(\"Algebraic product\")\n",
        "\n",
        "d = 15\n",
        "x = np.zeros((tam))\n",
        "y = np.zeros((tam))\n",
        "z = np.zeros((tam))\n",
        "result = np.zeros((tam))\n",
        "\n",
        "\n",
        "# create data\n",
        "for i in range(0,tam):\n",
        "    y[i] = miA(d)\n",
        "    z[i] = miB(d)\n",
        "    result[i] = (y[i] + z[i] - 1)\n",
        "    if result[i] < 0:\n",
        "        result[i] = 0 \n",
        "    x[i] = d\n",
        "    d = d + 0.1\n",
        "\n",
        "  \n",
        "# plot line\n",
        "plt.subplot(2, 3, 4)\n",
        "plt.plot(x,result)\n",
        "plt.grid()\n",
        "plt.title(\"Bounded product\")\n",
        "\n",
        "d = 15\n",
        "x = np.zeros((tam))\n",
        "y = np.zeros((tam))\n",
        "z = np.zeros((tam))\n",
        "result = np.zeros((tam))\n",
        "\n",
        "\n",
        "# create data\n",
        "for i in range(0,tam):\n",
        "    y[i] = miA(d)\n",
        "    z[i] = miB(d)\n",
        "    if y[i] == 1:\n",
        "        result[i] = z[i]\n",
        "    elif z[i] == 1:\n",
        "        result[i] = y[i]\n",
        "    else:\n",
        "        result[i] = 0\n",
        "    x[i] = d\n",
        "    d = d + 0.1\n",
        "\n",
        "  \n",
        "# plot line\n",
        "plt.subplot(2,3,5)\n",
        "plt.plot(x,result)\n",
        "plt.grid()\n",
        "plt.title(\"Drastic product\")\n",
        "\n",
        "plt.show()"
      ]
    },
    {
      "cell_type": "markdown",
      "source": [
        "## **Problem 9**\n",
        "\n",
        "<img src=\"https://github.com/lourencocavalcante/Fuzzy-Logic/blob/90c9f4ea04cee22074c3e8d8f5678eb7965bc230/Questions/2chapter-problem9.PNG?raw=true\" width = 600 align=\"left\">"
      ],
      "metadata": {
        "id": "Iw--Y5JeO2T1"
      }
    },
    {
      "cell_type": "markdown",
      "metadata": {
        "id": "i9IQcZVNGWzw"
      },
      "source": [
        "Fuzzy set A "
      ]
    },
    {
      "cell_type": "code",
      "execution_count": 49,
      "metadata": {
        "id": "3HFZLk0DGWzw",
        "outputId": "28211578-1e5c-4dc0-ac26-0aaf7eaee224",
        "colab": {
          "base_uri": "https://localhost:8080/"
        }
      },
      "outputs": [
        {
          "output_type": "stream",
          "name": "stdout",
          "text": [
            "miA = {1.0/14 + 1.0/15 + 0.5/16 + 0.2/17}\n"
          ]
        }
      ],
      "source": [
        "resultA = np.zeros((4))\n",
        "resultA[0] = 0\n",
        "resultA[0] = 1 - resultA[0]\n",
        "\n",
        "resultA[1] = 0\n",
        "resultA[1] = 1 - resultA[1]\n",
        "\n",
        "resultA[2] = (16-15)\n",
        "resultA[2] = math.pow(resultA[2], -2)\n",
        "resultA[2] = resultA[2] + 1\n",
        "resultA[2] = 1 / resultA[2]\n",
        "resultA[2] = 1 - resultA[2]\n",
        "\n",
        "resultA[3] = (17-15)\n",
        "resultA[3] = math.pow(resultA[3], -2)\n",
        "resultA[3] = resultA[3] + 1\n",
        "resultA[3] = 1 / resultA[3]\n",
        "resultA[3] = 1 - resultA[3]\n",
        "print('miA = {'+str(round(resultA[0],2))+'/14 + '+str(round(resultA[1],2))+'/15 + '+str(round(resultA[2],2))+'/16 + '+str(round(resultA[3],2))+'/17}')"
      ]
    },
    {
      "cell_type": "markdown",
      "metadata": {
        "id": "TWthUu4xGWzw"
      },
      "source": [
        "Fuzzy set B"
      ]
    },
    {
      "cell_type": "code",
      "execution_count": 50,
      "metadata": {
        "id": "w8dyeBOJGWzw",
        "outputId": "6a04b7b7-c369-4493-b5d2-e22c57f2cc3f",
        "colab": {
          "base_uri": "https://localhost:8080/"
        }
      },
      "outputs": [
        {
          "output_type": "stream",
          "name": "stdout",
          "text": [
            "miB = {0.99/14 + 0.94/15 + 0.5/16 + 0.0/17}\n"
          ]
        }
      ],
      "source": [
        "resultB = np.zeros((4))\n",
        "resultB[0] = (14-17)\n",
        "resultB[0] = math.pow(resultB[0], 4)\n",
        "resultB[0] = resultB[0] + 1\n",
        "resultB[0] = 1 / resultB[0]\n",
        "resultB[0] = 1 - resultB[0]\n",
        "\n",
        "resultB[1] = (15-17)\n",
        "resultB[1] = math.pow(resultB[1], 4)\n",
        "resultB[1] = resultB[1] + 1\n",
        "resultB[1] = 1 / resultB[1]\n",
        "resultB[1] = 1 - resultB[1]\n",
        "\n",
        "resultB[2] = (16-17)\n",
        "resultB[2] = math.pow(resultB[2], 4)\n",
        "resultB[2] = resultB[2] + 1\n",
        "resultB[2] = 1 / resultB[2]\n",
        "resultB[2] = 1 - resultB[2]\n",
        "\n",
        "resultB[3] = (17-17)\n",
        "resultB[3] = math.pow(resultB[3], 4)\n",
        "resultB[3] = resultB[3] + 1\n",
        "resultB[3] = 1 / resultB[3]\n",
        "resultB[3] = 1 - resultB[3]\n",
        "print('miB = {'+str(round(resultB[0],2))+'/14 + '+str(round(resultB[1],2))+'/15 + '+str(round(resultB[2],2))+'/16 + '+str(round(resultB[3],2))+'/17}')"
      ]
    },
    {
      "cell_type": "markdown",
      "metadata": {
        "id": "o-KDYCw1GWzw"
      },
      "source": [
        "max operation"
      ]
    },
    {
      "cell_type": "code",
      "execution_count": 51,
      "metadata": {
        "id": "D6AYWjQUGWzw",
        "outputId": "866d30bd-ef26-45fc-9376-5068c2e965ac",
        "colab": {
          "base_uri": "https://localhost:8080/"
        }
      },
      "outputs": [
        {
          "output_type": "stream",
          "name": "stdout",
          "text": [
            "miD = {1.0/14 + 1.0/15 + 0.5/16 + 0.2/17}\n"
          ]
        }
      ],
      "source": [
        "resultD = np.zeros((4))\n",
        "for i in range(0,4):\n",
        "    if resultA[i] > resultB[i]:\n",
        "        resultD[i] = resultA[i]\n",
        "    else:\n",
        "        resultD[i] = resultB[i]\n",
        "\n",
        "print('miD = {'+str(round(resultD[0],2))+'/14 + '+str(round(resultD[1],2))+'/15 + '+str(round(resultD[2],2))+'/16 + '+str(round(resultD[3],2))+'/17}')"
      ]
    },
    {
      "cell_type": "markdown",
      "metadata": {
        "id": "lVtrxCKZGWzx"
      },
      "source": [
        "algebraic sum"
      ]
    },
    {
      "cell_type": "code",
      "execution_count": 52,
      "metadata": {
        "id": "C1LP9EO3GWzx",
        "outputId": "b58cacb5-5ed4-4be8-f1cd-378bdbfb437a",
        "colab": {
          "base_uri": "https://localhost:8080/"
        }
      },
      "outputs": [
        {
          "output_type": "stream",
          "name": "stdout",
          "text": [
            "miD = {1.0/14 + 1.0/15 + 0.75/16 + 0.2/17}\n"
          ]
        }
      ],
      "source": [
        "resultD = np.zeros((4))\n",
        "for i in range(0,4):\n",
        "    resultD[i] = (resultA[i] + resultB[i]) - (resultA[i] * resultB[i])\n",
        "\n",
        "print('miD = {'+str(round(resultD[0],2))+'/14 + '+str(round(resultD[1],2))+'/15 + '+str(round(resultD[2],2))+'/16 + '+str(round(resultD[3],2))+'/17}')"
      ]
    },
    {
      "cell_type": "markdown",
      "metadata": {
        "id": "GoUW0e4PGWzx"
      },
      "source": [
        "bounded sum"
      ]
    },
    {
      "cell_type": "code",
      "execution_count": 53,
      "metadata": {
        "id": "48QH9f3dGWzx",
        "outputId": "93ff970f-10e4-4841-dcc3-8eb662598484",
        "colab": {
          "base_uri": "https://localhost:8080/"
        }
      },
      "outputs": [
        {
          "output_type": "stream",
          "name": "stdout",
          "text": [
            "miD = {1.0/14 + 1.0/15 + 1.0/16 + 0.2/17}\n"
          ]
        }
      ],
      "source": [
        "resultD = np.zeros((4))\n",
        "for i in range(0,4):\n",
        "    resultD[i] = resultA[i] + resultB[i]\n",
        "    if resultD[i] > 1:\n",
        "        resultD[i] = 1\n",
        "\n",
        "print('miD = {'+str(round(resultD[0],2))+'/14 + '+str(round(resultD[1],2))+'/15 + '+str(round(resultD[2],2))+'/16 + '+str(round(resultD[3],2))+'/17}')"
      ]
    },
    {
      "cell_type": "markdown",
      "metadata": {
        "id": "dX7gOdS2GWzx"
      },
      "source": [
        "drastic sum"
      ]
    },
    {
      "cell_type": "code",
      "execution_count": 54,
      "metadata": {
        "id": "uxUzMXTgGWz0",
        "outputId": "e6ca7761-e22b-47e1-dbc3-356a12afa52d",
        "colab": {
          "base_uri": "https://localhost:8080/"
        }
      },
      "outputs": [
        {
          "output_type": "stream",
          "name": "stdout",
          "text": [
            "miD = {1.0/14 + 1.0/15 + 1.0/16 + 0.2/17}\n"
          ]
        }
      ],
      "source": [
        "resultD = np.zeros((4))\n",
        "for i in range(0,4):\n",
        "    if resultA[i] == 0:\n",
        "        resultD[i] = resultB[i]\n",
        "    elif resultB[i] == 0:\n",
        "        resultD[i] = resultA[i]\n",
        "    else:\n",
        "        resultD[i] = 1\n",
        "\n",
        "print('miD = {'+str(round(resultD[0],2))+'/14 + '+str(round(resultD[1],2))+'/15 + '+str(round(resultD[2],2))+'/16 + '+str(round(resultD[3],2))+'/17}')"
      ]
    },
    {
      "cell_type": "markdown",
      "metadata": {
        "id": "Pp8psDwzGWz1"
      },
      "source": [
        "Graficos"
      ]
    },
    {
      "cell_type": "code",
      "execution_count": 55,
      "metadata": {
        "id": "05zQ_KvyGWz1",
        "outputId": "902291c1-5893-4116-bb72-d1ae433793f0",
        "colab": {
          "base_uri": "https://localhost:8080/",
          "height": 390
        }
      },
      "outputs": [
        {
          "output_type": "display_data",
          "data": {
            "text/plain": [
              "<Figure size 864x432 with 5 Axes>"
            ],
            "image/png": "[encoded data removed]"
          },
          "metadata": {
            "needs_background": "light"
          }
        }
      ],
      "source": [
        "fig = plt.figure(figsize=((12, 6)))\n",
        "\n",
        "def miA(x):\n",
        "    if x > 15:\n",
        "        eq = 1+((x-15)**(-2))\n",
        "        uA = 1/eq\n",
        "        uA = 1 - uA\n",
        "    else:\n",
        "        uA = 1\n",
        "        \n",
        "    return uA\n",
        "\n",
        "def miB(x):\n",
        "    eq = 1+((x-17)**4)\n",
        "    uB = 1/eq\n",
        "    uB = 1 - uB\n",
        "    return uB\n",
        "\n",
        "tam = 25\n",
        "d = 15\n",
        "x = np.zeros((tam))\n",
        "y = np.zeros((tam))\n",
        "z = np.zeros((tam))\n",
        "result = np.zeros((tam))\n",
        "\n",
        "for i in range(0,tam):\n",
        "    y[i] = miA(d)\n",
        "    z[i] = miB(d)\n",
        "    x[i] = d\n",
        "    d = d + 0.1\n",
        "\n",
        "plt.subplot(2, 3, 1)\n",
        "plt.plot(x,y)\n",
        "plt.plot(x,z)\n",
        "plt.grid()\n",
        "plt.title(\"Fuzzzy set A e B\")\n",
        "\n",
        "d = 15\n",
        "x = np.zeros((tam))\n",
        "y = np.zeros((tam))\n",
        "z = np.zeros((tam))\n",
        "\n",
        "for i in range(0,tam):\n",
        "    y[i] = miA(d)\n",
        "    z[i] = miB(d)\n",
        "    if (y[i] > z[i]):\n",
        "        result[i] = y[i]\n",
        "    else:\n",
        "        result[i] = z[i]\n",
        "    x[i] = d\n",
        "    d = d + 0.1\n",
        "\n",
        "plt.subplot(2, 3, 2)\n",
        "plt.plot(x,result)\n",
        "plt.grid()\n",
        "plt.title(\"Max operation\")\n",
        "\n",
        "d = 15\n",
        "x = np.zeros((tam))\n",
        "y = np.zeros((tam))\n",
        "z = np.zeros((tam))\n",
        "result = np.zeros((tam))\n",
        "\n",
        "\n",
        "# create data\n",
        "for i in range(0,tam):\n",
        "    y[i] = miA(d)\n",
        "    z[i] = miB(d)\n",
        "    result[i] = (y[i] + z[i]) - (y[i] * z[i])\n",
        "    x[i] = d\n",
        "    d = d + 0.1\n",
        "\n",
        "  \n",
        "# plot line\n",
        "plt.subplot(2, 3, 3)\n",
        "plt.plot(x,result)\n",
        "plt.grid()\n",
        "plt.title(\"Algebraic sum\")\n",
        "\n",
        "d = 15\n",
        "x = np.zeros((tam))\n",
        "y = np.zeros((tam))\n",
        "z = np.zeros((tam))\n",
        "result = np.zeros((tam))\n",
        "\n",
        "\n",
        "# create data\n",
        "for i in range(0,tam):\n",
        "    y[i] = miA(d)\n",
        "    z[i] = miB(d)\n",
        "    result[i] = y[i] + z[i]\n",
        "    if result[i] > 1:\n",
        "        result[i] = 1\n",
        "    x[i] = d\n",
        "    d = d + 0.1\n",
        "\n",
        "  \n",
        "# plot line\n",
        "plt.subplot(2, 3, 4)\n",
        "plt.plot(x,result)\n",
        "plt.grid()\n",
        "plt.title(\"Bounded sum\")\n",
        "\n",
        "d = 15\n",
        "x = np.zeros((tam))\n",
        "y = np.zeros((tam))\n",
        "z = np.zeros((tam))\n",
        "result = np.zeros((tam))\n",
        "\n",
        "\n",
        "# create data\n",
        "for i in range(0,tam):\n",
        "    y[i] = miA(d)\n",
        "    z[i] = miB(d)\n",
        "    if y[i] == 0:\n",
        "        result[i] = z[i]\n",
        "    elif z[i] == 0:\n",
        "        result[i] = y[i]\n",
        "    else:\n",
        "        result[i] = 1\n",
        "    x[i] = d\n",
        "    d = d + 0.1\n",
        "\n",
        "  \n",
        "# plot line\n",
        "plt.subplot(2,3,5)\n",
        "plt.plot(x,result)\n",
        "plt.grid()\n",
        "plt.title(\"Drastic sum\")\n",
        "\n",
        "plt.show()"
      ]
    },
    {
      "cell_type": "markdown",
      "source": [
        "## **Problem 11**\n",
        "\n",
        "<img src=\"https://github.com/lourencocavalcante/Fuzzy-Logic/blob/90c9f4ea04cee22074c3e8d8f5678eb7965bc230/Questions/2chapter-problem11.PNG?raw=true\" width = 600 align=\"left\">"
      ],
      "metadata": {
        "id": "Ij1CLkVaO6hk"
      }
    },
    {
      "cell_type": "markdown",
      "source": [
        "Possível solução:"
      ],
      "metadata": {
        "id": "onI1rrqIUWcd"
      }
    },
    {
      "cell_type": "code",
      "source": [
        "#Importação das bibliotecas necessárias\n",
        "from mpl_toolkits import mplot3d\n",
        "import numpy as np\n",
        "import matplotlib.pyplot as plt\n",
        "import math\n",
        "\n",
        "#--------------------------------------\n",
        "def f(x,y):\n",
        "    return (((x**2)/4)+((y**2)/2))** 0.5\n",
        "\n",
        "u = np.linspace(-2,2,10)\n",
        "v = np.linspace(-2,2,10)\n",
        "u, v = np.meshgrid(u,v)\n",
        "\n",
        "x=u\n",
        "y=v\n",
        "z=f(u,v)\n",
        "\n",
        "fig = plt.figure()\n",
        "\n",
        "ax = plt.axes(projection='3d')\n",
        "ax.contour3D(x,y,z,30)\n",
        "plt.show()"
      ],
      "metadata": {
        "id": "bWPH4hWQUP_i",
        "outputId": "4c556f29-1411-4dc4-95cf-34cb22f0ae83",
        "colab": {
          "base_uri": "https://localhost:8080/",
          "height": 248
        }
      },
      "execution_count": 56,
      "outputs": [
        {
          "output_type": "display_data",
          "data": {
            "text/plain": [
              "<Figure size 432x288 with 1 Axes>"
            ],
            "image/png": "[encoded data removed]"
          },
          "metadata": {
            "needs_background": "light"
          }
        }
      ]
    },
    {
      "cell_type": "markdown",
      "source": [
        "\n",
        "\n",
        "---\n",
        "\n"
      ],
      "metadata": {
        "id": "Oyvq-oW2f2it"
      }
    },
    {
      "cell_type": "markdown",
      "source": [
        "# **Chapter 3 problems**"
      ],
      "metadata": {
        "id": "IbmV9RPxM7F0"
      }
    },
    {
      "cell_type": "markdown",
      "source": [
        "## **Problem 1**"
      ],
      "metadata": {
        "id": "nMem8ZPUfh6N"
      }
    },
    {
      "cell_type": "markdown",
      "source": [
        "<img src=\"https://github.com/lourencocavalcante/Fuzzy-Logic/blob/90c9f4ea04cee22074c3e8d8f5678eb7965bc230/Questions/3chapter-problem1.PNG?raw=true\" width = 650 align=\"left\">\n"
      ],
      "metadata": {
        "id": "xGj6L240Nu0r"
      }
    },
    {
      "cell_type": "markdown",
      "source": [
        "SOLUÇÃO:\n",
        "\n",
        "<img src=\"https://github.com/lourencocavalcante/Fuzzy-Logic/blob/391fb73b4392fac69d9d3460542f73336860aa43/Questions/Solutions/cap3_solutionQ1a.JPG?raw=true\" width = 400 align=\"left\">\n",
        "\n",
        "<img src=\"https://github.com/lourencocavalcante/Fuzzy-Logic/blob/391fb73b4392fac69d9d3460542f73336860aa43/Questions/Solutions/cap3_solutionQ1b.JPG?raw=true\" width = 400 align=\"left\">\n",
        "\n",
        "<img src=\"https://github.com/lourencocavalcante/Fuzzy-Logic/blob/391fb73b4392fac69d9d3460542f73336860aa43/Questions/Solutions/cap3_solutionQ1c.JPG?raw=true\" width = 400 align=\"left\">"
      ],
      "metadata": {
        "id": "4DFK_t22fwP-"
      }
    },
    {
      "cell_type": "markdown",
      "source": [
        "\n",
        "\n",
        "---\n",
        "\n"
      ],
      "metadata": {
        "id": "c-vJhmzff4Vd"
      }
    },
    {
      "cell_type": "markdown",
      "source": [
        "# **Chapter 5 problems**"
      ],
      "metadata": {
        "id": "tzJ72M9TfbKl"
      }
    },
    {
      "cell_type": "markdown",
      "source": [
        "## **Problem 2**"
      ],
      "metadata": {
        "id": "3YVTVkHU9azJ"
      }
    },
    {
      "cell_type": "markdown",
      "source": [
        "<img src=\"https://github.com/lourencocavalcante/Fuzzy-Logic/blob/28896fe9d7efc622a4918a18eb6922157abb40af/Questions/5chapter-problem2.PNG?raw=true\" width = 650 align=\"left\">"
      ],
      "metadata": {
        "id": "f5cGljqhfkjm"
      }
    },
    {
      "cell_type": "markdown",
      "source": [
        "## **Problem 3**\n",
        "\n",
        "<img src=\"https://github.com/lourencocavalcante/Fuzzy-Logic/blob/05fb320ff03752e3ac19c450a4516158040e0a6c/Questions/5chapter-problem3.PNG?raw=true\" width = 650 align=\"left\">"
      ],
      "metadata": {
        "id": "uYRVAvdffrft"
      }
    },
    {
      "cell_type": "markdown",
      "source": [
        "\n",
        "\n",
        "---\n",
        "\n"
      ],
      "metadata": {
        "id": "8Rqx4bV9f6UW"
      }
    },
    {
      "cell_type": "markdown",
      "source": [
        "# **Chapter 6 problems**"
      ],
      "metadata": {
        "id": "P6QPonGwfvvx"
      }
    },
    {
      "cell_type": "markdown",
      "source": [
        "## **Problem 1**"
      ],
      "metadata": {
        "id": "cqemt3qqfvvy"
      }
    },
    {
      "cell_type": "markdown",
      "source": [
        "<img src=\"https://github.com/lourencocavalcante/Fuzzy-Logic/blob/28896fe9d7efc622a4918a18eb6922157abb40af/Questions/6chapter-problem1a.PNG?raw=true\" width = 650 align=\"left\">\n"
      ],
      "metadata": {
        "id": "IqVd1OxR-EH4"
      }
    },
    {
      "cell_type": "markdown",
      "source": [
        "<img src=\"https://github.com/lourencocavalcante/Fuzzy-Logic/blob/28896fe9d7efc622a4918a18eb6922157abb40af/Questions/6chapter-problem1b.PNG?raw=true\" width = 650 align=\"left\">"
      ],
      "metadata": {
        "id": "jwDQI7Ly-Poo"
      }
    },
    {
      "cell_type": "markdown",
      "metadata": {
        "id": "33jPwgUyd9iL"
      },
      "source": [
        "# **Referências**\n",
        "\n",
        "1. Grint, K. (1997). Fuzzy management: contemporary ideas and practices at work New York: Oxford.\n",
        "\n",
        "2. Lefteri H. Tsoukalas and Robert E. Uhrig. 1996. Fuzzy and Neural Approaches in Engineering (1st. ed.). John Wiley &amp; Sons, Inc., USA.\n",
        "\n",
        "3. Wuerges, Artur Filipe Ewald e Borba, José AlonsoRedes neurais, lógica nebulosa e algoritmos genéticos: aplicações e possibilidades em finanças e contabilidade. JISTEM - Journal of Information Systems and Technology Management [online]. 2010, v. 7, n. 1 [Acessado 9 Novembro 2022] , pp. 163-182. Disponível em: <https://doi.org/10.4301/S1807-17752010000100007>. Epub 22 Nov 2010. ISSN 1807-1775. https://doi.org/10.4301/S1807-17752010000100007."
      ]
    }
  ],
  "metadata": {
    "accelerator": "GPU",
    "colab": {
      "provenance": [],
      "machine_shape": "hm",
      "include_colab_link": true
    },
    "gpuClass": "standard",
    "kernelspec": {
      "display_name": "Python 3",
      "name": "python3"
    },
    "language_info": {
      "name": "python"
    }
  },
  "nbformat": 4,
  "nbformat_minor": 0
}